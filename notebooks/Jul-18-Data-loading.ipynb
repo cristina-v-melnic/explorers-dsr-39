{
 "cells": [
  {
   "cell_type": "code",
   "execution_count": 1,
   "id": "2108fe6f-2fcb-40da-ae71-4d2013cfb0fd",
   "metadata": {},
   "outputs": [],
   "source": [
    "import numpy as np\n",
    "import pandas as pd"
   ]
  },
  {
   "cell_type": "code",
   "execution_count": null,
   "id": "0df3c8f3-77c2-425b-9c26-afbb4996815f",
   "metadata": {},
   "outputs": [],
   "source": []
  }
 ],
 "metadata": {
  "kernelspec": {
   "display_name": "dsr-project-ker",
   "language": "python",
   "name": "dsr-project"
  },
  "language_info": {
   "codemirror_mode": {
    "name": "ipython",
    "version": 3
   },
   "file_extension": ".py",
   "mimetype": "text/x-python",
   "name": "python",
   "nbconvert_exporter": "python",
   "pygments_lexer": "ipython3",
   "version": "3.12.4"
  }
 },
 "nbformat": 4,
 "nbformat_minor": 5
}

{
 "cells": [
  {
   "cell_type": "code",
   "execution_count": 9,
   "metadata": {},
   "outputs": [],
   "source": [
    "import pandas as pd\n",
    "import numpy as np\n",
    "\n",
    "def get_train_data(features, labels):\n",
    "    \"\"\" \n",
    "    Input:\n",
    "        str to csv with train features and labels\n",
    "\n",
    "    Output:\n",
    "        data_clean_dt, X, y\n",
    "    \n",
    "    \"\"\"\n",
    "    data = features.merge(labels)\n",
    "\n",
    "    data_clean = data.dropna()\n",
    "    print(\"Droped {:.2f}% of rows.\".format((1 - data_clean.shape[0]/data.shape[0])*100))\n",
    "\n",
    "    data_clean.loc[:,'log_total_cases'] = np.log1p(data_clean['total_cases'])\n",
    "    data_clean_dt = get_dt_col(data_clean)\n",
    "\n",
    "    y = data_clean_dt['log_total_cases']\n",
    "    X = data_clean_dt.drop(columns=['total_cases','log_total_cases'])\n",
    "\n",
    "    \n",
    "    return data_clean_dt, X, y"
   ]
  },
  {
   "cell_type": "code",
   "execution_count": 2,
   "metadata": {},
   "outputs": [],
   "source": [
    "def get_dt_col(X , column='week_start_date', format='%Y-%m-%d'):\n",
    "    \"\"\"\n",
    "    Input:\n",
    "        X\n",
    "        col = weekofx\n",
    "\n",
    "    Returns:\n",
    "        X with X[col].dtype = datetime\n",
    "\n",
    "    \"\"\"\n",
    "    X_new = X.copy()\n",
    "    X_new[column] = pd.to_datetime(X_new[column], format=format)\n",
    "\n",
    "    return X_new"
   ]
  },
  {
   "cell_type": "code",
   "execution_count": 24,
   "metadata": {},
   "outputs": [],
   "source": [
    "from sklearn.ensemble import RandomForestRegressor\n",
    "\n",
    "train_feats = ['reanalysis_max_air_temp_k','reanalysis_min_air_temp_k','station_precip_mm','reanalysis_dew_point_temp_k']\n",
    "\n",
    "def get_model(X, y, feats):\n",
    "    regr = RandomForestRegressor(random_state=0)\n",
    "    regr.fit(X[feats], y)\n",
    "    return regr"
   ]
  },
  {
   "cell_type": "code",
   "execution_count": 7,
   "metadata": {},
   "outputs": [],
   "source": [
    "train_data = pd.read_csv('data/01_raw/dengue_features_train.csv')\n",
    "labels = pd.read_csv('data/01_raw/dengue_labels_train.csv')"
   ]
  },
  {
   "cell_type": "code",
   "execution_count": 10,
   "metadata": {},
   "outputs": [
    {
     "name": "stdout",
     "output_type": "stream",
     "text": [
      "Droped 17.65% of rows.\n"
     ]
    },
    {
     "name": "stderr",
     "output_type": "stream",
     "text": [
      "/tmp/ipykernel_22803/518283528.py:18: SettingWithCopyWarning: \n",
      "A value is trying to be set on a copy of a slice from a DataFrame.\n",
      "Try using .loc[row_indexer,col_indexer] = value instead\n",
      "\n",
      "See the caveats in the documentation: https://pandas.pydata.org/pandas-docs/stable/user_guide/indexing.html#returning-a-view-versus-a-copy\n",
      "  data_clean.loc[:,'log_total_cases'] = np.log1p(data_clean['total_cases'])\n"
     ]
    }
   ],
   "source": [
    "data_clean_dt, X, y = get_train_data(train_data, labels)"
   ]
  },
  {
   "cell_type": "code",
   "execution_count": 25,
   "metadata": {},
   "outputs": [],
   "source": [
    "model = get_model(X, y, train_feats)"
   ]
  },
  {
   "cell_type": "code",
   "execution_count": 14,
   "metadata": {},
   "outputs": [],
   "source": [
    "test_data = pd.read_csv('data/01_raw/dengue_features_test.csv')\n"
   ]
  },
  {
   "cell_type": "code",
   "execution_count": 30,
   "metadata": {},
   "outputs": [
    {
     "ename": "TypeError",
     "evalue": "only length-1 arrays can be converted to Python scalars",
     "output_type": "error",
     "traceback": [
      "\u001b[0;31m---------------------------------------------------------------------------\u001b[0m",
      "\u001b[0;31mTypeError\u001b[0m                                 Traceback (most recent call last)",
      "Cell \u001b[0;32mIn[30], line 1\u001b[0m\n\u001b[0;32m----> 1\u001b[0m predictions \u001b[38;5;241m=\u001b[39m \u001b[38;5;28;43mint\u001b[39;49m\u001b[43m(\u001b[49m\u001b[43mnp\u001b[49m\u001b[38;5;241;43m.\u001b[39;49m\u001b[43mround\u001b[49m\u001b[43m(\u001b[49m\u001b[43mmodel\u001b[49m\u001b[38;5;241;43m.\u001b[39;49m\u001b[43mpredict\u001b[49m\u001b[43m(\u001b[49m\u001b[43mtest_data\u001b[49m\u001b[43m[\u001b[49m\u001b[43mtrain_feats\u001b[49m\u001b[43m]\u001b[49m\u001b[43m)\u001b[49m\u001b[43m)\u001b[49m\u001b[43m)\u001b[49m\n",
      "\u001b[0;31mTypeError\u001b[0m: only length-1 arrays can be converted to Python scalars"
     ]
    }
   ],
   "source": [
    "predictions = np.round(model.predict(test_data[train_feats]))"
   ]
  },
  {
   "cell_type": "code",
   "execution_count": 29,
   "metadata": {},
   "outputs": [
    {
     "data": {
      "text/plain": [
       "array([2., 3., 3., 3., 3., 3., 3., 3., 3., 3., 3., 3., 3., 3., 4., 4., 3.,\n",
       "       4., 5., 4., 4., 4., 3., 3., 4., 3., 3., 3., 4., 3., 3., 3., 2., 3.,\n",
       "       2., 3., 3., 3., 3., 3., 3., 3., 2., 3., 2., 3., 2., 3., 3., 3., 3.,\n",
       "       3., 3., 2., 3., 3., 3., 2., 3., 3., 3., 3., 3., 3., 3., 3., 3., 3.,\n",
       "       3., 4., 4., 4., 3., 3., 4., 4., 4., 3., 2., 3., 3., 4., 3., 3., 3.,\n",
       "       4., 3., 3., 2., 2., 3., 3., 2., 3., 3., 2., 2., 2., 3., 3., 3., 3.,\n",
       "       3., 2., 3., 4., 3., 3., 4., 4., 4., 3., 3., 4., 4., 4., 4., 4., 3.,\n",
       "       4., 4., 4., 4., 4., 4., 3., 3., 3., 4., 3., 3., 4., 3., 2., 3., 2.,\n",
       "       3., 2., 2., 2., 3., 3., 3., 2., 3., 3., 3., 3., 2., 3., 2., 3., 3.,\n",
       "       3., 3., 3., 3., 3., 3., 3., 3., 3., 3., 4., 4., 4., 4., 4., 3., 4.,\n",
       "       4., 4., 3., 4., 4., 4., 3., 3., 3., 3., 3., 3., 3., 3., 3., 3., 3.,\n",
       "       3., 3., 3., 3., 2., 3., 3., 3., 3., 2., 3., 2., 3., 3., 3., 3., 3.,\n",
       "       3., 3., 3., 2., 2., 3., 3., 3., 3., 3., 3., 3., 3., 3., 4., 2., 3.,\n",
       "       4., 3., 4., 4., 3., 3., 3., 3., 3., 3., 3., 3., 4., 3., 4., 3., 3.,\n",
       "       3., 3., 3., 3., 3., 3., 3., 3., 2., 3., 3., 3., 3., 2., 2., 3., 2.,\n",
       "       2., 2., 3., 3., 3., 2., 1., 2., 1., 1., 2., 2., 2., 0., 1., 2., 1.,\n",
       "       1., 1., 1., 1., 1., 2., 2., 1., 1., 2., 2., 2., 2., 2., 1., 2., 3.,\n",
       "       1., 1., 1., 2., 2., 2., 2., 2., 2., 2., 2., 2., 2., 2., 3., 2., 1.,\n",
       "       1., 1., 1., 1., 1., 1., 1., 1., 1., 1., 1., 1., 1., 1., 1., 1., 1.,\n",
       "       1., 2., 2., 1., 2., 2., 2., 2., 2., 2., 2., 2., 2., 2., 2., 2., 1.,\n",
       "       2., 1., 1., 2., 2., 2., 1., 2., 2., 1., 1., 2., 2., 2., 2., 1., 2.,\n",
       "       1., 1., 1., 1., 1., 2., 1., 1., 1., 1., 1., 1., 1., 1., 2., 1., 1.,\n",
       "       1., 1., 1., 1., 2., 2., 2., 1., 2., 2., 2., 2., 2., 2., 2., 2., 2.,\n",
       "       1., 1., 2., 2., 2., 2., 2., 2., 2., 2., 2., 2., 2., 3., 2., 2., 1.,\n",
       "       2., 2., 2., 1., 1., 1., 1., 1.])"
      ]
     },
     "execution_count": 29,
     "metadata": {},
     "output_type": "execute_result"
    }
   ],
   "source": [
    "predictions"
   ]
  },
  {
   "cell_type": "markdown",
   "metadata": {},
   "source": []
  }
 ],
 "metadata": {
  "kernelspec": {
   "display_name": "DengAI",
   "language": "python",
   "name": "python3"
  },
  "language_info": {
   "codemirror_mode": {
    "name": "ipython",
    "version": 3
   },
   "file_extension": ".py",
   "mimetype": "text/x-python",
   "name": "python",
   "nbconvert_exporter": "python",
   "pygments_lexer": "ipython3",
   "version": "3.12.4"
  }
 },
 "nbformat": 4,
 "nbformat_minor": 2
}
